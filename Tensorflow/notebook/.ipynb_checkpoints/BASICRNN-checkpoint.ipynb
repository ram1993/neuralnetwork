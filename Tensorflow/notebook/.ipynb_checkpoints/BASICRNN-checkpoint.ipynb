{
 "cells": [
  {
   "cell_type": "code",
   "execution_count": 1,
   "metadata": {
    "collapsed": false
   },
   "outputs": [],
   "source": [
    "import tensorflow as tf\n",
    "import numpy as np\n",
    "from tensorflow.contrib import rnn\n",
    "sess = tf.InteractiveSession()"
   ]
  },
  {
   "cell_type": "code",
   "execution_count": 2,
   "metadata": {
    "collapsed": true
   },
   "outputs": [],
   "source": [
    "h = [1,0,0,0]\n",
    "e = [0,1,0,0]\n",
    "l = [0,0,1,0]\n",
    "o = [0,0,0,1]"
   ]
  },
  {
   "cell_type": "code",
   "execution_count": 3,
   "metadata": {
    "collapsed": false
   },
   "outputs": [
    {
     "name": "stdout",
     "output_type": "stream",
     "text": [
      "2 2\n",
      "<tensorflow.contrib.rnn.python.ops.core_rnn_cell_impl.BasicRNNCell object at 0x7fe9d1d76198>\n",
      "[[[ 1.  0.  0.  0.]\n",
      "  [ 1.  0.  0.  0.]\n",
      "  [ 0.  1.  0.  0.]\n",
      "  [ 0.  0.  1.  0.]\n",
      "  [ 0.  0.  0.  1.]\n",
      "  [ 0.  0.  0.  1.]]]\n",
      "[[[-0.35967419 -0.37205574]\n",
      "  [-0.53727889 -0.31120852]\n",
      "  [-0.61436874  0.12294892]\n",
      "  [-0.53126252 -0.64174759]\n",
      "  [ 0.20022123 -0.4964678 ]\n",
      "  [ 0.19977252 -0.51354784]]]\n",
      "[[ 0.19977252 -0.51354784]]\n"
     ]
    }
   ],
   "source": [
    "with tf.variable_scope(\"one_variable\") as scope:\n",
    "    \n",
    "    hidden_size = 2\n",
    "    cell = tf.contrib.rnn.BasicRNNCell(num_units = hidden_size)\n",
    "    print(cell.output_size, cell.state_size)\n",
    "    print(cell)\n",
    "    x = np.array([[h, h],\n",
    "                  [e, e],\n",
    "                  [l, l],\n",
    "                 ], dtype = np.float32)\n",
    "    print(x)\n",
    "    output, _state = tf.nn.dynamic_rnn(cell, x, dtype = tf.float32)\n",
    "    sess.run(tf.global_variables_initializer())\n",
    "    \n",
    "    print(sess.run(output))\n",
    "    print(sess.run(_state))\n",
    "   "
   ]
  },
  {
   "cell_type": "code",
   "execution_count": null,
   "metadata": {
    "collapsed": true
   },
   "outputs": [],
   "source": []
  }
 ],
 "metadata": {
  "kernelspec": {
   "display_name": "Python 3",
   "language": "python",
   "name": "python3"
  },
  "language_info": {
   "codemirror_mode": {
    "name": "ipython",
    "version": 3
   },
   "file_extension": ".py",
   "mimetype": "text/x-python",
   "name": "python",
   "nbconvert_exporter": "python",
   "pygments_lexer": "ipython3",
   "version": "3.5.2"
  }
 },
 "nbformat": 4,
 "nbformat_minor": 2
}
