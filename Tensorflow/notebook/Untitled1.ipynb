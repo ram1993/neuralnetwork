{
 "cells": [
  {
   "cell_type": "code",
   "execution_count": 1,
   "metadata": {
    "collapsed": false
   },
   "outputs": [],
   "source": [
    "import tensorflow as tf\n",
    "import numpy as np\n",
    "from tensorflow.contrib import rnn\n",
    "from tensorflow.python.ops import ctc_ops as ctc\n",
    "import pprint\n",
    "sess = tf.InteractiveSession()"
   ]
  },
  {
   "cell_type": "code",
   "execution_count": 12,
   "metadata": {
    "collapsed": false
   },
   "outputs": [
    {
     "name": "stdout",
     "output_type": "stream",
     "text": [
      "(6, 1000, 48)\n",
      "(6,)\n",
      "<class 'numpy.ndarray'>\n",
      "(47, 96)\n"
     ]
    }
   ],
   "source": [
    "x_train = np.arange(288000, dtype=np.float32).reshape(6, 1000, 48)\n",
    "y0 = np.arange(47*96, dtype=np.float32).reshape(47, 96)\n",
    "y1 = np.arange(49*96, dtype=np.float32).reshape(49, 96)\n",
    "y2 = np.arange(54*96, dtype=np.float32).reshape(54, 96)\n",
    "y3 = np.arange(42*96, dtype=np.float32).reshape(42, 96)\n",
    "y4 = np.arange(57*96, dtype=np.float32).reshape(57, 96)\n",
    "y5 = np.arange(50*96, dtype=np.float32).reshape(50, 96)\n",
    "\n",
    "a = [y0,y1,y2,y3,y4,y5]\n",
    "y_train = np.asarray(a)\n",
    "print(x_train.shape)\n",
    "print(y_train.shape)\n",
    "print(type(x_train[0]))\n",
    "print(y_train[0].shape)"
   ]
  },
  {
   "cell_type": "code",
   "execution_count": 18,
   "metadata": {
    "collapsed": false,
    "scrolled": true
   },
   "outputs": [
    {
     "name": "stdout",
     "output_type": "stream",
     "text": [
      "[array([95, 95, 95, 95, 95, 95, 95, 95, 95, 95, 95, 95, 95, 95, 95, 95, 95,\n",
      "       95, 95, 95, 95, 95, 95, 95, 95, 95, 95, 95, 95, 95, 95, 95, 95, 95,\n",
      "       95, 95, 95, 95, 95, 95, 95, 95, 95, 95, 95, 95, 95]), array([95, 95, 95, 95, 95, 95, 95, 95, 95, 95, 95, 95, 95, 95, 95, 95, 95,\n",
      "       95, 95, 95, 95, 95, 95, 95, 95, 95, 95, 95, 95, 95, 95, 95, 95, 95,\n",
      "       95, 95, 95, 95, 95, 95, 95, 95, 95, 95, 95, 95, 95, 95, 95]), array([95, 95, 95, 95, 95, 95, 95, 95, 95, 95, 95, 95, 95, 95, 95, 95, 95,\n",
      "       95, 95, 95, 95, 95, 95, 95, 95, 95, 95, 95, 95, 95, 95, 95, 95, 95,\n",
      "       95, 95, 95, 95, 95, 95, 95, 95, 95, 95, 95, 95, 95, 95, 95, 95, 95,\n",
      "       95, 95, 95]), array([95, 95, 95, 95, 95, 95, 95, 95, 95, 95, 95, 95, 95, 95, 95, 95, 95,\n",
      "       95, 95, 95, 95, 95, 95, 95, 95, 95, 95, 95, 95, 95, 95, 95, 95, 95,\n",
      "       95, 95, 95, 95, 95, 95, 95, 95]), array([95, 95, 95, 95, 95, 95, 95, 95, 95, 95, 95, 95, 95, 95, 95, 95, 95,\n",
      "       95, 95, 95, 95, 95, 95, 95, 95, 95, 95, 95, 95, 95, 95, 95, 95, 95,\n",
      "       95, 95, 95, 95, 95, 95, 95, 95, 95, 95, 95, 95, 95, 95, 95, 95, 95,\n",
      "       95, 95, 95, 95, 95, 95]), array([95, 95, 95, 95, 95, 95, 95, 95, 95, 95, 95, 95, 95, 95, 95, 95, 95,\n",
      "       95, 95, 95, 95, 95, 95, 95, 95, 95, 95, 95, 95, 95, 95, 95, 95, 95,\n",
      "       95, 95, 95, 95, 95, 95, 95, 95, 95, 95, 95, 95, 95, 95, 95, 95])]\n"
     ]
    }
   ],
   "source": [
    "x = len(y_train)\n",
    "#print(x)\n",
    "target_idx = []\n",
    "target_values = []\n",
    "target_values2 = []\n",
    "\n",
    "\n",
    "max_x = 0 \n",
    "for ii, i in enumerate(y_train):\n",
    "    x,y = i.shape\n",
    "    #print(x,y)\n",
    "    target_values2.append(np.array([lable.argmax() for lable in y_train[ii]]))\n",
    "    for p in range(x):\n",
    "        target_idx.append((ii,p))\n",
    "        target_values.append(y_train[ii][p])\n",
    "        \n",
    "        \n",
    "\n",
    "print(target_values2)\n"
   ]
  },
  {
   "cell_type": "code",
   "execution_count": 4,
   "metadata": {
    "collapsed": true
   },
   "outputs": [],
   "source": [
    "batch_size = 6\n",
    "num_epochs = 200\n",
    "num_lstm_hidden = 512\n",
    "learning_rate = 0.01\n",
    "momentum = 0.9\n",
    "n_steps = 1000\n",
    "num_classes = 96"
   ]
  },
  {
   "cell_type": "code",
   "execution_count": 5,
   "metadata": {
    "collapsed": false
   },
   "outputs": [],
   "source": [
    "e = 9"
   ]
  },
  {
   "cell_type": "code",
   "execution_count": 6,
   "metadata": {
    "collapsed": false,
    "scrolled": true
   },
   "outputs": [
    {
     "name": "stdout",
     "output_type": "stream",
     "text": [
      "[12000   512]\n",
      "[12000    96]\n",
      "[   6 2000   96]\n",
      "[2000    6   96]\n",
      "[6]\n",
      "[3 8]\n"
     ]
    }
   ],
   "source": [
    "with tf.variable_scope('bi-directional') as scope:\n",
    "    # bi-directional rnn\n",
    "    \n",
    "    \n",
    "    targets = tf.SparseTensor([(0,0),(0,1),(0,2),(0,3),(0,4),(1,0),(1,1),(1,2),(2,0),(2,1),(2,2),(2,3),(2,4),(2,5),(2,6),(2,7)], [0,3,1,3,2,0,3,1,1,3,0,2,3,2,3,2] , [3,8])\n",
    "    \n",
    "    cell_fw = rnn.BasicLSTMCell(num_units=num_lstm_hidden, state_is_tuple=True)\n",
    "    cell_bw = rnn.BasicLSTMCell(num_units=num_lstm_hidden, state_is_tuple=True)\n",
    "\n",
    "    outputs, states = tf.nn.bidirectional_dynamic_rnn(cell_fw, cell_bw, x_train,sequence_length=[1000, 1000, 1000,1000,1000,1000], dtype=tf.float32)\n",
    "    \n",
    "    sess.run(tf.global_variables_initializer())\n",
    "    \n",
    "    outputs = tf.reshape(outputs, [-1, num_lstm_hidden])\n",
    "    \n",
    "    \n",
    "    \n",
    "    print(sess.run(tf.shape(outputs)))\n",
    "    \n",
    "    # Weights for regression layer.\n",
    "    W = tf.Variable(tf.truncated_normal([num_lstm_hidden, num_classes], stddev=0.1), name='W')\n",
    "    b = tf.Variable(tf.constant(0., shape=[num_classes]), name='b')\n",
    "\n",
    "    # Apply linear transform\n",
    "    logits = tf.matmul(outputs, W) + b\n",
    "    \n",
    "    print(sess.run(tf.shape(logits)))\n",
    "\n",
    "    # Reshaping back to the original shape\n",
    "    logits = tf.reshape(logits, [6, -1, num_classes])\n",
    "    \n",
    "    print(sess.run(tf.shape(logits)))\n",
    "\n",
    "    # Swap dimensions to time major for CTC loss.\n",
    "    logits = tf.transpose(logits, (1, 0, 2))\n",
    "    \n",
    "    print(sess.run(tf.shape(logits)))\n",
    "    #print(sess.run(logits))\n",
    "    \n",
    "    #seq_len = tf.placeholder(tf.int32, [None])\n",
    "\n",
    "    loss = ctc.ctc_loss(targets, logits, [1000, 1000, 1000,1000,1000,1000])\n",
    "    \n",
    "    print(sess.run(tf.shape(loss)))\n",
    "    print(sess.run(tf.shape(targets)))\n",
    "#     cost = tf.reduce_mean(loss)\n",
    "\n",
    "#     # Record the loss\n",
    "#     tf.scalar_summary('loss', cost)\n",
    "\n",
    "#     optimizer = tf.train.MomentumOptimizer(learning_rate=learning_rate,\n",
    "#                                            momentum=momentum, use_nesterov=True).minimize(cost)\n",
    "\n",
    "#     decoded, log_prob = ctc.ctc_beam_search_decoder(inputs=logits, sequence_length=seq_len)\n",
    "\n",
    "#     # Label error rate using the edit distance between output and target\n",
    "#     ler = tf.reduce_mean(tf.edit_distance(tf.cast(decoded[0], tf.int32), targets))\n",
    "   "
   ]
  },
  {
   "cell_type": "code",
   "execution_count": null,
   "metadata": {
    "collapsed": true
   },
   "outputs": [],
   "source": []
  }
 ],
 "metadata": {
  "kernelspec": {
   "display_name": "Python 3",
   "language": "python",
   "name": "python3"
  },
  "language_info": {
   "codemirror_mode": {
    "name": "ipython",
    "version": 3
   },
   "file_extension": ".py",
   "mimetype": "text/x-python",
   "name": "python",
   "nbconvert_exporter": "python",
   "pygments_lexer": "ipython3",
   "version": "3.5.2"
  }
 },
 "nbformat": 4,
 "nbformat_minor": 2
}
