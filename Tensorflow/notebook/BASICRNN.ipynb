{
 "cells": [
  {
   "cell_type": "code",
   "execution_count": 1,
   "metadata": {
    "collapsed": false
   },
   "outputs": [],
   "source": [
    "import tensorflow as tf\n",
    "import numpy as np\n",
    "from tensorflow.contrib import rnn\n",
    "sess = tf.InteractiveSession()"
   ]
  },
  {
   "cell_type": "code",
   "execution_count": 2,
   "metadata": {
    "collapsed": true
   },
   "outputs": [],
   "source": [
    "h = [1,0,0,0]\n",
    "e = [0,1,0,0]\n",
    "l = [0,0,1,0]\n",
    "o = [0,0,0,1]"
   ]
  },
  {
   "cell_type": "code",
   "execution_count": 3,
   "metadata": {
    "collapsed": false
   },
   "outputs": [
    {
     "name": "stdout",
     "output_type": "stream",
     "text": [
      "2 2\n",
      "<tensorflow.contrib.rnn.python.ops.core_rnn_cell_impl.BasicRNNCell object at 0x7f289b7f1198>\n",
      "[[[ 1.  0.  0.  0.]\n",
      "  [ 1.  0.  0.  0.]]\n",
      "\n",
      " [[ 0.  1.  0.  0.]\n",
      "  [ 0.  1.  0.  0.]]\n",
      "\n",
      " [[ 0.  0.  1.  0.]\n",
      "  [ 0.  0.  1.  0.]]]\n",
      "[[[-0.34647563 -0.55300802]\n",
      "  [-0.01913427 -0.60014039]]\n",
      "\n",
      " [[ 0.52593786  0.59151882]\n",
      "  [ 0.          0.        ]]\n",
      "\n",
      " [[ 0.23493758 -0.51024634]\n",
      "  [ 0.          0.        ]]]\n",
      "[[-0.01913427 -0.60014039]\n",
      " [ 0.52593786  0.59151882]\n",
      " [ 0.23493758 -0.51024634]]\n"
     ]
    }
   ],
   "source": [
    "with tf.variable_scope(\"one_variable\") as scope:\n",
    "    \n",
    "    hidden_size = 2\n",
    "    cell = tf.contrib.rnn.BasicRNNCell(num_units = hidden_size)\n",
    "    print(cell.output_size, cell.state_size)\n",
    "    print(cell)\n",
    "    x = np.array([[h, h],\n",
    "                  [e, e],\n",
    "                  [l, l],\n",
    "                 ], dtype = np.float32)\n",
    "    print(x)\n",
    "    output, _state = tf.nn.dynamic_rnn(cell, x,sequence_length= [2,1,1], dtype = tf.float32)\n",
    "    sess.run(tf.global_variables_initializer())\n",
    "    \n",
    "    print(sess.run(output))\n",
    "    print(sess.run(_state))"
   ]
  },
  {
   "cell_type": "code",
   "execution_count": null,
   "metadata": {
    "collapsed": true
   },
   "outputs": [],
   "source": []
  }
 ],
 "metadata": {
  "kernelspec": {
   "display_name": "Python 3",
   "language": "python",
   "name": "python3"
  },
  "language_info": {
   "codemirror_mode": {
    "name": "ipython",
    "version": 3
   },
   "file_extension": ".py",
   "mimetype": "text/x-python",
   "name": "python",
   "nbconvert_exporter": "python",
   "pygments_lexer": "ipython3",
   "version": "3.5.2"
  }
 },
 "nbformat": 4,
 "nbformat_minor": 2
}
