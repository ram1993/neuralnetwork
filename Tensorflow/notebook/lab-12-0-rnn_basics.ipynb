{
 "cells": [
  {
   "cell_type": "code",
   "execution_count": 1,
   "metadata": {
    "collapsed": true,
    "deletable": true,
    "editable": true
   },
   "outputs": [],
   "source": [
    "# http://www.wildml.com/2016/08/rnns-in-tensorflow-a-practical-guide-and-undocumented-features/\n",
    "# http://learningtensorflow.com/index.html\n",
    "# http://suriyadeepan.github.io/2016-12-31-practical-seq2seq/\n",
    "\n",
    "import tensorflow as tf\n",
    "import numpy as np\n",
    "from tensorflow.contrib import rnn\n",
    "import pprint\n",
    "pp = pprint.PrettyPrinter(indent=4)\n",
    "sess = tf.InteractiveSession()"
   ]
  },
  {
   "cell_type": "code",
   "execution_count": 2,
   "metadata": {
    "collapsed": true,
    "deletable": true,
    "editable": true
   },
   "outputs": [],
   "source": [
    "# One hot encoding for each char in 'hello'\n",
    "h = [1, 0, 0, 0]\n",
    "e = [0, 1, 0, 0]\n",
    "l = [0, 0, 1, 0]\n",
    "o = [0, 0, 0, 1]"
   ]
  },
  {
   "cell_type": "markdown",
   "metadata": {
    "deletable": true,
    "editable": true
   },
   "source": [
    "![image](https://cloud.githubusercontent.com/assets/901975/23348727/cc981856-fce7-11e6-83ea-4b187473466b.png)\n"
   ]
  },
  {
   "cell_type": "code",
   "execution_count": 3,
   "metadata": {
    "collapsed": false,
    "deletable": true,
    "editable": true
   },
   "outputs": [
    {
     "name": "stdout",
     "output_type": "stream",
     "text": [
      "1 1\n",
      "array([[[ 1.,  0.,  0.,  0.]]], dtype=float32)\n",
      "array([[[-0.68226224]]], dtype=float32)\n"
     ]
    }
   ],
   "source": [
    "with tf.variable_scope('one_cell') as scope:\n",
    "    # One cell RNN input_dim (4) -> output_dim (2)\n",
    "    hidden_size = 1\n",
    "    cell = tf.contrib.rnn.BasicRNNCell(num_units=hidden_size)\n",
    "    print(cell.output_size, cell.state_size)\n",
    "\n",
    "    x_data = np.array([[h]], dtype=np.float32) # x_data = [[[1,0,0,0]]]\n",
    "    pp.pprint(x_data)\n",
    "    outputs, _states = tf.nn.dynamic_rnn(cell, x_data, dtype=tf.float32)\n",
    "\n",
    "    sess.run(tf.global_variables_initializer())\n",
    "    pp.pprint(outputs.eval())"
   ]
  },
  {
   "cell_type": "markdown",
   "metadata": {
    "deletable": true,
    "editable": true
   },
   "source": [
    "![image](https://cloud.githubusercontent.com/assets/901975/23383634/649efd0a-fd82-11e6-925d-8041242743b0.png)"
   ]
  },
  {
   "cell_type": "code",
   "execution_count": 4,
   "metadata": {
    "collapsed": false,
    "deletable": true,
    "editable": true
   },
   "outputs": [
    {
     "name": "stdout",
     "output_type": "stream",
     "text": [
      "(1, 5, 4)\n",
      "array([[[ 1.,  0.,  0.,  0.],\n",
      "        [ 0.,  1.,  0.,  0.],\n",
      "        [ 0.,  0.,  1.,  0.],\n",
      "        [ 0.,  0.,  1.,  0.],\n",
      "        [ 0.,  0.,  0.,  1.]]], dtype=float32)\n",
      "array([[[-0.60135782, -0.67066818],\n",
      "        [-0.76201087,  0.15562601],\n",
      "        [-0.85076123, -0.12917398],\n",
      "        [-0.91217172,  0.11725479],\n",
      "        [ 0.27258348, -0.050533  ]]], dtype=float32)\n"
     ]
    }
   ],
   "source": [
    "with tf.variable_scope('two_sequances') as scope:\n",
    "    # One cell RNN input_dim (4) -> output_dim (2). sequence: 5\n",
    "    hidden_size = 2\n",
    "    cell = tf.contrib.rnn.BasicRNNCell(num_units=hidden_size)\n",
    "    x_data = np.array([[h, e, l, l, o]], dtype=np.float32)\n",
    "    print(x_data.shape)\n",
    "    pp.pprint(x_data)\n",
    "    outputs, states = tf.nn.dynamic_rnn(cell, x_data, dtype=tf.float32)\n",
    "    sess.run(tf.global_variables_initializer())\n",
    "    pp.pprint(outputs.eval())"
   ]
  },
  {
   "cell_type": "markdown",
   "metadata": {
    "deletable": true,
    "editable": true
   },
   "source": [
    "![image](https://cloud.githubusercontent.com/assets/901975/23383681/9943a9fc-fd82-11e6-8121-bd187994e249.png)"
   ]
  },
  {
   "cell_type": "code",
   "execution_count": 5,
   "metadata": {
    "collapsed": false,
    "deletable": true,
    "editable": true
   },
   "outputs": [
    {
     "name": "stdout",
     "output_type": "stream",
     "text": [
      "array([[[ 1.,  0.,  0.,  0.],\n",
      "        [ 0.,  1.,  0.,  0.],\n",
      "        [ 0.,  0.,  1.,  0.],\n",
      "        [ 0.,  0.,  1.,  0.],\n",
      "        [ 0.,  0.,  0.,  1.]],\n",
      "\n",
      "       [[ 0.,  1.,  0.,  0.],\n",
      "        [ 0.,  0.,  0.,  1.],\n",
      "        [ 0.,  0.,  1.,  0.],\n",
      "        [ 0.,  0.,  1.,  0.],\n",
      "        [ 0.,  0.,  1.,  0.]],\n",
      "\n",
      "       [[ 0.,  0.,  1.,  0.],\n",
      "        [ 0.,  0.,  1.,  0.],\n",
      "        [ 0.,  1.,  0.,  0.],\n",
      "        [ 0.,  1.,  0.,  0.],\n",
      "        [ 0.,  0.,  1.,  0.]]], dtype=float32)\n",
      "array([[[-0.08363709,  0.14027484],\n",
      "        [ 0.02493201,  0.20462605],\n",
      "        [-0.06182761,  0.29794976],\n",
      "        [-0.12991247,  0.30553949],\n",
      "        [-0.21330857,  0.15022287]],\n",
      "\n",
      "       [[ 0.068808  ,  0.13457137],\n",
      "        [-0.06971022,  0.08396979],\n",
      "        [-0.13594906,  0.1603317 ],\n",
      "        [-0.1734536 ,  0.18938743],\n",
      "        [-0.19931419,  0.21245483]],\n",
      "\n",
      "       [[-0.07762068,  0.06599158],\n",
      "        [-0.1312525 ,  0.11477097],\n",
      "        [ 0.0118046 ,  0.1876744 ],\n",
      "        [ 0.07184076,  0.26778108],\n",
      "        [-0.01831046,  0.36711457]]], dtype=float32)\n"
     ]
    }
   ],
   "source": [
    "with tf.variable_scope('3_batches') as scope:\n",
    "    # One cell RNN input_dim (4) -> output_dim (2). sequence: 5, batch 3\n",
    "    # 3 batches 'hello', 'eolll', 'lleel'\n",
    "    x_data = np.array([[h, e, l, l, o],\n",
    "                       [e, o, l, l, l],\n",
    "                       [l, l, e, e, l]], dtype=np.float32)\n",
    "    pp.pprint(x_data)\n",
    "    \n",
    "    hidden_size = 2\n",
    "    cell = rnn.BasicLSTMCell(num_units=hidden_size, state_is_tuple=True)\n",
    "    outputs, _states = tf.nn.dynamic_rnn(\n",
    "        cell, x_data, dtype=tf.float32)\n",
    "    sess.run(tf.global_variables_initializer())\n",
    "    pp.pprint(outputs.eval())"
   ]
  },
  {
   "cell_type": "code",
   "execution_count": 6,
   "metadata": {
    "collapsed": false,
    "deletable": true,
    "editable": true
   },
   "outputs": [
    {
     "name": "stdout",
     "output_type": "stream",
     "text": [
      "array([[[ 1.,  0.,  0.,  0.],\n",
      "        [ 0.,  1.,  0.,  0.],\n",
      "        [ 0.,  0.,  1.,  0.],\n",
      "        [ 0.,  0.,  1.,  0.],\n",
      "        [ 0.,  0.,  0.,  1.]],\n",
      "\n",
      "       [[ 0.,  1.,  0.,  0.],\n",
      "        [ 0.,  0.,  0.,  1.],\n",
      "        [ 0.,  0.,  1.,  0.],\n",
      "        [ 0.,  0.,  1.,  0.],\n",
      "        [ 0.,  0.,  1.,  0.]],\n",
      "\n",
      "       [[ 0.,  0.,  1.,  0.],\n",
      "        [ 0.,  0.,  1.,  0.],\n",
      "        [ 0.,  1.,  0.,  0.],\n",
      "        [ 0.,  1.,  0.,  0.],\n",
      "        [ 0.,  0.,  1.,  0.]]], dtype=float32)\n",
      "array([[[ 0.11846812,  0.09838437],\n",
      "        [ 0.01435947,  0.21795948],\n",
      "        [-0.1294212 ,  0.1101583 ],\n",
      "        [-0.24306259,  0.04897844],\n",
      "        [-0.26552296,  0.09324916]],\n",
      "\n",
      "       [[-0.07799197,  0.09925572],\n",
      "        [-0.13092862,  0.11419758],\n",
      "        [-0.22510643,  0.04204131],\n",
      "        [ 0.        ,  0.        ],\n",
      "        [ 0.        ,  0.        ]],\n",
      "\n",
      "       [[-0.1404013 , -0.06096476],\n",
      "        [-0.24985476, -0.10693933],\n",
      "        [-0.22802687, -0.00521357],\n",
      "        [-0.25779328,  0.11324508],\n",
      "        [ 0.        ,  0.        ]]], dtype=float32)\n"
     ]
    }
   ],
   "source": [
    "with tf.variable_scope('3_batches_dynamic_length') as scope:\n",
    "    # One cell RNN input_dim (4) -> output_dim (5). sequence: 5, batch 3\n",
    "    # 3 batches 'hello', 'eolll', 'lleel'\n",
    "    x_data = np.array([[h, e, l, l, o],\n",
    "                       [e, o, l, l, l],\n",
    "                       [l, l, e, e, l]], dtype=np.float32)\n",
    "    pp.pprint(x_data)\n",
    "    \n",
    "    hidden_size = 2\n",
    "    cell = rnn.BasicLSTMCell(num_units=hidden_size, state_is_tuple=True)\n",
    "    outputs, _states = tf.nn.dynamic_rnn(\n",
    "        cell, x_data, sequence_length=[5,3,4], dtype=tf.float32)\n",
    "    sess.run(tf.global_variables_initializer())\n",
    "    pp.pprint(outputs.eval())"
   ]
  },
  {
   "cell_type": "code",
   "execution_count": 7,
   "metadata": {
    "collapsed": false,
    "deletable": true,
    "editable": true
   },
   "outputs": [
    {
     "name": "stdout",
     "output_type": "stream",
     "text": [
      "array([[[ 1.,  0.,  0.,  0.],\n",
      "        [ 0.,  1.,  0.,  0.],\n",
      "        [ 0.,  0.,  1.,  0.],\n",
      "        [ 0.,  0.,  1.,  0.],\n",
      "        [ 0.,  0.,  0.,  1.]],\n",
      "\n",
      "       [[ 0.,  1.,  0.,  0.],\n",
      "        [ 0.,  0.,  0.,  1.],\n",
      "        [ 0.,  0.,  1.,  0.],\n",
      "        [ 0.,  0.,  1.,  0.],\n",
      "        [ 0.,  0.,  1.,  0.]],\n",
      "\n",
      "       [[ 0.,  0.,  1.,  0.],\n",
      "        [ 0.,  0.,  1.,  0.],\n",
      "        [ 0.,  1.,  0.,  0.],\n",
      "        [ 0.,  1.,  0.,  0.],\n",
      "        [ 0.,  0.,  1.,  0.]]], dtype=float32)\n",
      "array([[[-0.01510691, -0.09768563],\n",
      "        [-0.11986788, -0.2062224 ],\n",
      "        [-0.12150764, -0.09573848],\n",
      "        [-0.11341213, -0.00686507],\n",
      "        [-0.11165538,  0.03148442]],\n",
      "\n",
      "       [[-0.11858094, -0.13462871],\n",
      "        [-0.12052085, -0.06944887],\n",
      "        [-0.1357048 ,  0.00758943],\n",
      "        [-0.12825252,  0.05504551],\n",
      "        [-0.12495665,  0.08196589]],\n",
      "\n",
      "       [[-0.03133412,  0.03963752],\n",
      "        [-0.05609235,  0.06543965],\n",
      "        [-0.15608624, -0.09140078],\n",
      "        [-0.20793875, -0.18669473],\n",
      "        [-0.19900799, -0.07157262]]], dtype=float32)\n"
     ]
    }
   ],
   "source": [
    "with tf.variable_scope('initial_state') as scope:\n",
    "    batch_size = 3\n",
    "    x_data = np.array([[h, e, l, l, o],\n",
    "                      [e, o, l, l, l],\n",
    "                      [l, l, e, e, l]], dtype=np.float32)\n",
    "    pp.pprint(x_data)\n",
    "    \n",
    "    # One cell RNN input_dim (4) -> output_dim (5). sequence: 5, batch: 3\n",
    "    hidden_size=2\n",
    "    cell = rnn.BasicLSTMCell(num_units=hidden_size, state_is_tuple=True)\n",
    "    initial_state = cell.zero_state(batch_size, tf.float32)\n",
    "    outputs, _states = tf.nn.dynamic_rnn(cell, x_data,\n",
    "                                         initial_state=initial_state, dtype=tf.float32)\n",
    "    sess.run(tf.global_variables_initializer())\n",
    "    pp.pprint(outputs.eval())"
   ]
  },
  {
   "cell_type": "code",
   "execution_count": 8,
   "metadata": {
    "collapsed": false,
    "deletable": true,
    "editable": true
   },
   "outputs": [],
   "source": [
    "# Create input data\n",
    "batch_size=6\n",
    "sequence_length=1000\n",
    "input_dim=48\n",
    "\n",
    "x_data = np.arange(288000, dtype=np.float32).reshape(batch_size, sequence_length, input_dim)\n",
    "#pp.pprint(x_data)  # batch, sequence_length, input_dim"
   ]
  },
  {
   "cell_type": "code",
   "execution_count": 9,
   "metadata": {
    "collapsed": false,
    "deletable": true,
    "editable": true
   },
   "outputs": [],
   "source": [
    "# with tf.variable_scope('generated_data') as scope:\n",
    "#     # One cell RNN input_dim (3) -> output_dim (5). sequence: 5, batch: 3\n",
    "#     cell = rnn.BasicLSTMCell(num_units=5, state_is_tuple=True)\n",
    "#     initial_state = cell.zero_state(batch_size, tf.float32)\n",
    "#     outputs, _states = tf.nn.dynamic_rnn(cell, x_data,\n",
    "#                                          initial_state=initial_state, dtype=tf.float32)\n",
    "#     sess.run(tf.global_variables_initializer())\n",
    "#     pp.pprint(outputs.eval())"
   ]
  },
  {
   "cell_type": "code",
   "execution_count": 10,
   "metadata": {
    "collapsed": false,
    "deletable": true,
    "editable": true
   },
   "outputs": [],
   "source": [
    "# with tf.variable_scope('MultiRNNCell') as scope:\n",
    "#     # Make rnn\n",
    "#     cell = rnn.BasicLSTMCell(num_units=5, state_is_tuple=True)\n",
    "#     cell = rnn.MultiRNNCell([cell] * 3, state_is_tuple=True) # 3 layers\n",
    "\n",
    "#     # rnn in/out\n",
    "#     outputs, _states = tf.nn.dynamic_rnn(cell, x_data, dtype=tf.float32)\n",
    "#     print(\"dynamic rnn: \", outputs)\n",
    "#     sess.run(tf.global_variables_initializer())\n",
    "#     pp.pprint(outputs.eval())  # batch size, unrolling (time), hidden_size"
   ]
  },
  {
   "cell_type": "code",
   "execution_count": 11,
   "metadata": {
    "collapsed": false,
    "deletable": true,
    "editable": true
   },
   "outputs": [],
   "source": [
    "# with tf.variable_scope('dynamic_rnn') as scope:\n",
    "#     cell = rnn.BasicLSTMCell(num_units=5, state_is_tuple=True)\n",
    "#     outputs, _states = tf.nn.dynamic_rnn(cell, x_data, dtype=tf.float32,\n",
    "#                                          sequence_length=[1, 3, 2])\n",
    "#     # lentgh 1 for batch 1, lentgh 2 for batch 2\n",
    "    \n",
    "#     print(\"dynamic rnn: \", outputs)\n",
    "#     sess.run(tf.global_variables_initializer())\n",
    "#     pp.pprint(outputs.eval())  # batch size, unrolling (time), hidden_size"
   ]
  },
  {
   "cell_type": "code",
   "execution_count": 12,
   "metadata": {
    "collapsed": false,
    "deletable": true,
    "editable": true
   },
   "outputs": [],
   "source": [
    "with tf.variable_scope('bi-directional') as scope:\n",
    "    # bi-directional rnn\n",
    "    cell_fw = rnn.BasicLSTMCell(num_units=5, state_is_tuple=True)\n",
    "    cell_bw = rnn.BasicLSTMCell(num_units=5, state_is_tuple=True)\n",
    "\n",
    "    outputs, states = tf.nn.bidirectional_dynamic_rnn(cell_fw, cell_bw, x_data,\n",
    "                                                      sequence_length=[2, 3, 1,5,7,9],\n",
    "                                                      dtype=tf.float32)\n",
    "\n",
    "    sess.run(tf.global_variables_initializer())\n",
    "    #pp.pprint(sess.run(outputs))\n",
    "    #pp.pprint(sess.run(states))\n",
    "#     #pp.pprint(sess.run(outputs[0].get_shape()))\n",
    "#     pp.pprint(sess.run(tf.shape(x_data)))\n",
    "#     pp.pprint(sess.run(tf.shape(outputs[0])))\n",
    "#     pp.pprint(sess.run(tf.shape(outputs[1])))\n",
    "#     pp.pprint(sess.run(tf.shape(outputs)))\n",
    "#     #pp.pprint(sess.run(outputs[-1]))\n",
    "#     X_for_fc = tf.reshape(outputs, [-1, 5])\n",
    "#     pp.pprint(sess.run(tf.shape(X_for_fc)))\n",
    "    "
   ]
  },
  {
   "cell_type": "code",
   "execution_count": 13,
   "metadata": {
    "collapsed": false,
    "deletable": true,
    "editable": true
   },
   "outputs": [
    {
     "name": "stdout",
     "output_type": "stream",
     "text": [
      "array([[[  0.00000000e+00,   1.00000000e+00,   2.00000000e+00, ...,\n",
      "           4.50000000e+01,   4.60000000e+01,   4.70000000e+01],\n",
      "        [  4.80000000e+01,   4.90000000e+01,   5.00000000e+01, ...,\n",
      "           9.30000000e+01,   9.40000000e+01,   9.50000000e+01],\n",
      "        [  9.60000000e+01,   9.70000000e+01,   9.80000000e+01, ...,\n",
      "           1.41000000e+02,   1.42000000e+02,   1.43000000e+02],\n",
      "        ..., \n",
      "        [  4.78560000e+04,   4.78570000e+04,   4.78580000e+04, ...,\n",
      "           4.79010000e+04,   4.79020000e+04,   4.79030000e+04],\n",
      "        [  4.79040000e+04,   4.79050000e+04,   4.79060000e+04, ...,\n",
      "           4.79490000e+04,   4.79500000e+04,   4.79510000e+04],\n",
      "        [  4.79520000e+04,   4.79530000e+04,   4.79540000e+04, ...,\n",
      "           4.79970000e+04,   4.79980000e+04,   4.79990000e+04]],\n",
      "\n",
      "       [[  4.80000000e+04,   4.80010000e+04,   4.80020000e+04, ...,\n",
      "           4.80450000e+04,   4.80460000e+04,   4.80470000e+04],\n",
      "        [  4.80480000e+04,   4.80490000e+04,   4.80500000e+04, ...,\n",
      "           4.80930000e+04,   4.80940000e+04,   4.80950000e+04],\n",
      "        [  4.80960000e+04,   4.80970000e+04,   4.80980000e+04, ...,\n",
      "           4.81410000e+04,   4.81420000e+04,   4.81430000e+04],\n",
      "        ..., \n",
      "        [  9.58560000e+04,   9.58570000e+04,   9.58580000e+04, ...,\n",
      "           9.59010000e+04,   9.59020000e+04,   9.59030000e+04],\n",
      "        [  9.59040000e+04,   9.59050000e+04,   9.59060000e+04, ...,\n",
      "           9.59490000e+04,   9.59500000e+04,   9.59510000e+04],\n",
      "        [  9.59520000e+04,   9.59530000e+04,   9.59540000e+04, ...,\n",
      "           9.59970000e+04,   9.59980000e+04,   9.59990000e+04]],\n",
      "\n",
      "       [[  9.60000000e+04,   9.60010000e+04,   9.60020000e+04, ...,\n",
      "           9.60450000e+04,   9.60460000e+04,   9.60470000e+04],\n",
      "        [  9.60480000e+04,   9.60490000e+04,   9.60500000e+04, ...,\n",
      "           9.60930000e+04,   9.60940000e+04,   9.60950000e+04],\n",
      "        [  9.60960000e+04,   9.60970000e+04,   9.60980000e+04, ...,\n",
      "           9.61410000e+04,   9.61420000e+04,   9.61430000e+04],\n",
      "        ..., \n",
      "        [  1.43856000e+05,   1.43857000e+05,   1.43858000e+05, ...,\n",
      "           1.43901000e+05,   1.43902000e+05,   1.43903000e+05],\n",
      "        [  1.43904000e+05,   1.43905000e+05,   1.43906000e+05, ...,\n",
      "           1.43949000e+05,   1.43950000e+05,   1.43951000e+05],\n",
      "        [  1.43952000e+05,   1.43953000e+05,   1.43954000e+05, ...,\n",
      "           1.43997000e+05,   1.43998000e+05,   1.43999000e+05]],\n",
      "\n",
      "       [[  1.44000000e+05,   1.44001000e+05,   1.44002000e+05, ...,\n",
      "           1.44045000e+05,   1.44046000e+05,   1.44047000e+05],\n",
      "        [  1.44048000e+05,   1.44049000e+05,   1.44050000e+05, ...,\n",
      "           1.44093000e+05,   1.44094000e+05,   1.44095000e+05],\n",
      "        [  1.44096000e+05,   1.44097000e+05,   1.44098000e+05, ...,\n",
      "           1.44141000e+05,   1.44142000e+05,   1.44143000e+05],\n",
      "        ..., \n",
      "        [  1.91856000e+05,   1.91857000e+05,   1.91858000e+05, ...,\n",
      "           1.91901000e+05,   1.91902000e+05,   1.91903000e+05],\n",
      "        [  1.91904000e+05,   1.91905000e+05,   1.91906000e+05, ...,\n",
      "           1.91949000e+05,   1.91950000e+05,   1.91951000e+05],\n",
      "        [  1.91952000e+05,   1.91953000e+05,   1.91954000e+05, ...,\n",
      "           1.91997000e+05,   1.91998000e+05,   1.91999000e+05]],\n",
      "\n",
      "       [[  1.92000000e+05,   1.92001000e+05,   1.92002000e+05, ...,\n",
      "           1.92045000e+05,   1.92046000e+05,   1.92047000e+05],\n",
      "        [  1.92048000e+05,   1.92049000e+05,   1.92050000e+05, ...,\n",
      "           1.92093000e+05,   1.92094000e+05,   1.92095000e+05],\n",
      "        [  1.92096000e+05,   1.92097000e+05,   1.92098000e+05, ...,\n",
      "           1.92141000e+05,   1.92142000e+05,   1.92143000e+05],\n",
      "        ..., \n",
      "        [  2.39856000e+05,   2.39857000e+05,   2.39858000e+05, ...,\n",
      "           2.39901000e+05,   2.39902000e+05,   2.39903000e+05],\n",
      "        [  2.39904000e+05,   2.39905000e+05,   2.39906000e+05, ...,\n",
      "           2.39949000e+05,   2.39950000e+05,   2.39951000e+05],\n",
      "        [  2.39952000e+05,   2.39953000e+05,   2.39954000e+05, ...,\n",
      "           2.39997000e+05,   2.39998000e+05,   2.39999000e+05]],\n",
      "\n",
      "       [[  2.40000000e+05,   2.40001000e+05,   2.40002000e+05, ...,\n",
      "           2.40045000e+05,   2.40046000e+05,   2.40047000e+05],\n",
      "        [  2.40048000e+05,   2.40049000e+05,   2.40050000e+05, ...,\n",
      "           2.40093000e+05,   2.40094000e+05,   2.40095000e+05],\n",
      "        [  2.40096000e+05,   2.40097000e+05,   2.40098000e+05, ...,\n",
      "           2.40141000e+05,   2.40142000e+05,   2.40143000e+05],\n",
      "        ..., \n",
      "        [  2.87856000e+05,   2.87857000e+05,   2.87858000e+05, ...,\n",
      "           2.87901000e+05,   2.87902000e+05,   2.87903000e+05],\n",
      "        [  2.87904000e+05,   2.87905000e+05,   2.87906000e+05, ...,\n",
      "           2.87949000e+05,   2.87950000e+05,   2.87951000e+05],\n",
      "        [  2.87952000e+05,   2.87953000e+05,   2.87954000e+05, ...,\n",
      "           2.87997000e+05,   2.87998000e+05,   2.87999000e+05]]], dtype=float32)\n",
      "array([[  0.00000000e+00,   1.00000000e+00,   2.00000000e+00],\n",
      "       [  3.00000000e+00,   4.00000000e+00,   5.00000000e+00],\n",
      "       [  6.00000000e+00,   7.00000000e+00,   8.00000000e+00],\n",
      "       ..., \n",
      "       [  2.87991000e+05,   2.87992000e+05,   2.87993000e+05],\n",
      "       [  2.87994000e+05,   2.87995000e+05,   2.87996000e+05],\n",
      "       [  2.87997000e+05,   2.87998000e+05,   2.87999000e+05]], dtype=float32)\n",
      "array([[[  2.50000000e+01,   2.80000000e+01,   3.10000000e+01,\n",
      "           3.40000000e+01,   3.70000000e+01],\n",
      "        [  7.00000000e+01,   8.20000000e+01,   9.40000000e+01,\n",
      "           1.06000000e+02,   1.18000000e+02],\n",
      "        [  1.15000000e+02,   1.36000000e+02,   1.57000000e+02,\n",
      "           1.78000000e+02,   1.99000000e+02],\n",
      "        [  1.60000000e+02,   1.90000000e+02,   2.20000000e+02,\n",
      "           2.50000000e+02,   2.80000000e+02],\n",
      "        [  2.05000000e+02,   2.44000000e+02,   2.83000000e+02,\n",
      "           3.22000000e+02,   3.61000000e+02]],\n",
      "\n",
      "       [[  2.50000000e+02,   2.98000000e+02,   3.46000000e+02,\n",
      "           3.94000000e+02,   4.42000000e+02],\n",
      "        [  2.95000000e+02,   3.52000000e+02,   4.09000000e+02,\n",
      "           4.66000000e+02,   5.23000000e+02],\n",
      "        [  3.40000000e+02,   4.06000000e+02,   4.72000000e+02,\n",
      "           5.38000000e+02,   6.04000000e+02],\n",
      "        [  3.85000000e+02,   4.60000000e+02,   5.35000000e+02,\n",
      "           6.10000000e+02,   6.85000000e+02],\n",
      "        [  4.30000000e+02,   5.14000000e+02,   5.98000000e+02,\n",
      "           6.82000000e+02,   7.66000000e+02]],\n",
      "\n",
      "       [[  4.75000000e+02,   5.68000000e+02,   6.61000000e+02,\n",
      "           7.54000000e+02,   8.47000000e+02],\n",
      "        [  5.20000000e+02,   6.22000000e+02,   7.24000000e+02,\n",
      "           8.26000000e+02,   9.28000000e+02],\n",
      "        [  5.65000000e+02,   6.76000000e+02,   7.87000000e+02,\n",
      "           8.98000000e+02,   1.00900000e+03],\n",
      "        [  6.10000000e+02,   7.30000000e+02,   8.50000000e+02,\n",
      "           9.70000000e+02,   1.09000000e+03],\n",
      "        [  6.55000000e+02,   7.84000000e+02,   9.13000000e+02,\n",
      "           1.04200000e+03,   1.17100000e+03]],\n",
      "\n",
      "       ..., \n",
      "       [[  4.31935000e+06,   5.18321800e+06,   6.04708600e+06,\n",
      "           6.91095400e+06,   7.77482200e+06],\n",
      "        [  4.31939500e+06,   5.18327200e+06,   6.04714900e+06,\n",
      "           6.91102600e+06,   7.77490300e+06],\n",
      "        [  4.31944000e+06,   5.18332600e+06,   6.04721200e+06,\n",
      "           6.91109800e+06,   7.77498400e+06],\n",
      "        [  4.31948500e+06,   5.18338000e+06,   6.04727500e+06,\n",
      "           6.91117000e+06,   7.77506500e+06],\n",
      "        [  4.31953000e+06,   5.18343400e+06,   6.04733800e+06,\n",
      "           6.91124200e+06,   7.77514600e+06]],\n",
      "\n",
      "       [[  4.31957500e+06,   5.18348800e+06,   6.04740100e+06,\n",
      "           6.91131400e+06,   7.77522700e+06],\n",
      "        [  4.31962000e+06,   5.18354200e+06,   6.04746400e+06,\n",
      "           6.91138600e+06,   7.77530800e+06],\n",
      "        [  4.31966500e+06,   5.18359600e+06,   6.04752700e+06,\n",
      "           6.91145800e+06,   7.77538900e+06],\n",
      "        [  4.31971000e+06,   5.18365000e+06,   6.04759000e+06,\n",
      "           6.91153000e+06,   7.77547000e+06],\n",
      "        [  4.31975500e+06,   5.18370400e+06,   6.04765300e+06,\n",
      "           6.91160200e+06,   7.77555100e+06]],\n",
      "\n",
      "       [[  4.31980000e+06,   5.18375800e+06,   6.04771600e+06,\n",
      "           6.91167400e+06,   7.77563200e+06],\n",
      "        [  4.31984500e+06,   5.18381200e+06,   6.04777900e+06,\n",
      "           6.91174600e+06,   7.77571300e+06],\n",
      "        [  4.31989000e+06,   5.18386600e+06,   6.04784200e+06,\n",
      "           6.91181800e+06,   7.77579400e+06],\n",
      "        [  4.31993500e+06,   5.18392000e+06,   6.04790500e+06,\n",
      "           6.91189000e+06,   7.77587500e+06],\n",
      "        [  4.31998000e+06,   5.18397400e+06,   6.04796800e+06,\n",
      "           6.91196200e+06,   7.77595600e+06]]], dtype=float32)\n"
     ]
    }
   ],
   "source": [
    "# flattern based softmax\n",
    "hidden_size=3\n",
    "sequence_length=5\n",
    "batch_size=3\n",
    "num_classes=5\n",
    "\n",
    "pp.pprint(x_data) # hidden_size=3, sequence_length=4, batch_size=2\n",
    "x_data = x_data.reshape(-1, hidden_size)\n",
    "pp.pprint(x_data)\n",
    "\n",
    "softmax_w = np.arange(15, dtype=np.float32).reshape(hidden_size, num_classes)\n",
    "outputs = np.matmul(x_data, softmax_w)\n",
    "outputs = outputs.reshape(-1, sequence_length, num_classes) # batch, seq, class\n",
    "pp.pprint(outputs)"
   ]
  },
  {
   "cell_type": "code",
   "execution_count": 14,
   "metadata": {
    "collapsed": false,
    "deletable": true,
    "editable": true
   },
   "outputs": [
    {
     "name": "stdout",
     "output_type": "stream",
     "text": [
      "Loss:  0.596759\n"
     ]
    }
   ],
   "source": [
    "# [batch_size, sequence_length]\n",
    "y_data = tf.constant([[1, 1, 1]])\n",
    "\n",
    "# [batch_size, sequence_length, emb_dim ]\n",
    "prediction = tf.constant([[[0.2, 0.7], [0.6, 0.2], [0.2, 0.9]]], dtype=tf.float32)\n",
    "\n",
    "# [batch_size * sequence_length]\n",
    "weights = tf.constant([[1, 1, 1]], dtype=tf.float32)\n",
    "\n",
    "sequence_loss = tf.contrib.seq2seq.sequence_loss(logits=prediction, targets=y_data, weights=weights)\n",
    "sess.run(tf.global_variables_initializer())\n",
    "print(\"Loss: \", sequence_loss.eval())"
   ]
  },
  {
   "cell_type": "code",
   "execution_count": 15,
   "metadata": {
    "collapsed": false,
    "deletable": true,
    "editable": true
   },
   "outputs": [
    {
     "name": "stdout",
     "output_type": "stream",
     "text": [
      "Loss1:  0.513015 Loss2:  0.371101 Loss3:  1.31326 Loss4:  1.31326\n"
     ]
    }
   ],
   "source": [
    "# [batch_size, sequence_length]\n",
    "y_data = tf.constant([[1, 1, 1]])\n",
    "\n",
    "# [batch_size, sequence_length, emb_dim ]\n",
    "prediction1 = tf.constant([[[0.3, 0.7], [0.3, 0.7], [0.3, 0.7]]], dtype=tf.float32)\n",
    "prediction2 = tf.constant([[[0.1, 0.9], [0.1, 0.9], [0.1, 0.9]]], dtype=tf.float32)\n",
    "\n",
    "prediction3 = tf.constant([[[1, 0], [1, 0], [1, 0]]], dtype=tf.float32)\n",
    "prediction4 = tf.constant([[[0, 1], [1, 0], [0, 1]]], dtype=tf.float32)\n",
    "\n",
    "# [batch_size * sequence_length]\n",
    "weights = tf.constant([[1, 1, 1]], dtype=tf.float32)\n",
    "\n",
    "sequence_loss1 = tf.contrib.seq2seq.sequence_loss(prediction1, y_data, weights)\n",
    "sequence_loss2 = tf.contrib.seq2seq.sequence_loss(prediction2, y_data, weights)\n",
    "sequence_loss3 = tf.contrib.seq2seq.sequence_loss(prediction3, y_data, weights)\n",
    "sequence_loss4 = tf.contrib.seq2seq.sequence_loss(prediction3, y_data, weights)\n",
    "\n",
    "sess.run(tf.global_variables_initializer())\n",
    "print(\"Loss1: \", sequence_loss1.eval(),\n",
    "      \"Loss2: \", sequence_loss2.eval(),\n",
    "      \"Loss3: \", sequence_loss3.eval(),\n",
    "      \"Loss4: \", sequence_loss4.eval())"
   ]
  }
 ],
 "metadata": {
  "kernelspec": {
   "display_name": "Python 3",
   "language": "python",
   "name": "python3"
  },
  "language_info": {
   "codemirror_mode": {
    "name": "ipython",
    "version": 3
   },
   "file_extension": ".py",
   "mimetype": "text/x-python",
   "name": "python",
   "nbconvert_exporter": "python",
   "pygments_lexer": "ipython3",
   "version": "3.5.2"
  }
 },
 "nbformat": 4,
 "nbformat_minor": 0
}
