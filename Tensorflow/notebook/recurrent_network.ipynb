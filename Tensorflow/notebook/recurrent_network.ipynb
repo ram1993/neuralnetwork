{
 "cells": [
  {
   "cell_type": "markdown",
   "metadata": {
    "collapsed": true,
    "deletable": true,
    "editable": true
   },
   "source": [
    "'''\n",
    "A Reccurent Neural Network (LSTM) implementation example using TensorFlow library.\n",
    "This example is using the MNIST database of handwritten digits (http://yann.lecun.com/exdb/mnist/)\n",
    "Long Short Term Memory paper: http://deeplearning.cs.cmu.edu/pdfs/Hochreiter97_lstm.pdf\n",
    "\n",
    "Author: Aymeric Damien\n",
    "Project: https://github.com/aymericdamien/TensorFlow-Examples/\n",
    "'''"
   ]
  },
  {
   "cell_type": "code",
   "execution_count": 1,
   "metadata": {
    "collapsed": false,
    "deletable": true,
    "editable": true
   },
   "outputs": [
    {
     "name": "stdout",
     "output_type": "stream",
     "text": [
      "Extracting data/MNIST/train-images-idx3-ubyte.gz\n",
      "Extracting data/MNIST/train-labels-idx1-ubyte.gz\n",
      "Extracting data/MNIST/t10k-images-idx3-ubyte.gz\n",
      "Extracting data/MNIST/t10k-labels-idx1-ubyte.gz\n"
     ]
    }
   ],
   "source": [
    "import tensorflow as tf\n",
    "from tensorflow.contrib import rnn\n",
    "import numpy as np\n",
    "\n",
    "# Import MINST data\n",
    "from tensorflow.examples.tutorials.mnist import input_data\n",
    "mnist = input_data.read_data_sets(\"data/MNIST/\", one_hot=True)"
   ]
  },
  {
   "cell_type": "markdown",
   "metadata": {
    "collapsed": true,
    "deletable": true,
    "editable": true
   },
   "source": [
    "'''\n",
    "To classify images using a reccurent neural network, we consider every image\n",
    "row as a sequence of pixels. Because MNIST image shape is 28*28px, we will then\n",
    "handle 28 sequences of 28 steps for every sample.\n",
    "'''"
   ]
  },
  {
   "cell_type": "code",
   "execution_count": 3,
   "metadata": {
    "collapsed": false,
    "deletable": true,
    "editable": true
   },
   "outputs": [],
   "source": [
    "# Parameters\n",
    "learning_rate = 0.001\n",
    "training_iters = 100000\n",
    "batch_size = 100\n",
    "display_step = 10\n",
    "\n",
    "# Network Parameters\n",
    "n_input = 28 # MNIST data input (img shape: 28*28)\n",
    "n_steps = 28 # timesteps\n",
    "n_hidden = 150 # hidden layer num of features\n",
    "n_classes = 10 # MNIST total classes (0-9 digits)\n",
    "\n",
    "# tf Graph input\n",
    "x = tf.placeholder(\"float\", [None, n_steps, n_input])\n",
    "y = tf.placeholder(\"float\", [None, n_classes])\n",
    "\n",
    "# Define weights\n",
    "weights = {\n",
    "    'out': tf.Variable(tf.random_normal([n_hidden, n_classes]))\n",
    "}\n",
    "biases = {\n",
    "    'out': tf.Variable(tf.random_normal([n_classes]))\n",
    "}"
   ]
  },
  {
   "cell_type": "code",
   "execution_count": 4,
   "metadata": {
    "collapsed": false,
    "deletable": true,
    "editable": true
   },
   "outputs": [],
   "source": [
    "def RNN(x, weights, biases):\n",
    "\n",
    "    # Prepare data shape to match `rnn` function requirements\n",
    "    # Current data input shape: (batch_size, n_steps, n_input)\n",
    "    # Required shape: 'n_steps' tensors list of shape (batch_size, n_input)\n",
    "    \n",
    "    # Unstack to get a list of 'n_steps' tensors of shape (batch_size, n_input)\n",
    "    x = tf.unstack(x, n_steps, 1)\n",
    "\n",
    "    # Define a lstm cell with tensorflow\n",
    "    lstm_cell = rnn.BasicLSTMCell(n_hidden, forget_bias=1.0)\n",
    "\n",
    "    # Get lstm cell output\n",
    "    outputs, states = rnn.static_rnn(lstm_cell, x, dtype=tf.float32)\n",
    "\n",
    "    # Linear activation, using rnn inner loop last output\n",
    "    return tf.matmul(outputs[-1], weights['out']) + biases['out']\n",
    "\n",
    "pred = RNN(x, weights, biases)\n",
    "\n",
    "# Define loss and optimizer\n",
    "cost = tf.reduce_mean(tf.nn.softmax_cross_entropy_with_logits(logits=pred, labels=y))\n",
    "optimizer = tf.train.AdamOptimizer(learning_rate=learning_rate).minimize(cost)\n",
    "\n",
    "# Evaluate model\n",
    "correct_pred = tf.equal(tf.argmax(pred,1), tf.argmax(y,1))\n",
    "accuracy = tf.reduce_mean(tf.cast(correct_pred, tf.float32))\n",
    "\n",
    "# Initializing the variables\n",
    "init = tf.global_variables_initializer()"
   ]
  },
  {
   "cell_type": "code",
   "execution_count": 8,
   "metadata": {
    "collapsed": false,
    "deletable": true,
    "editable": true
   },
   "outputs": [
    {
     "name": "stdout",
     "output_type": "stream",
     "text": [
      "Iter 1000, Minibatch Loss= 1.874949, Training Accuracy= 0.36000\n",
      "Iter 2000, Minibatch Loss= 1.353046, Training Accuracy= 0.53000\n",
      "Iter 3000, Minibatch Loss= 1.155910, Training Accuracy= 0.56000\n",
      "Iter 4000, Minibatch Loss= 0.951262, Training Accuracy= 0.76000\n",
      "Iter 5000, Minibatch Loss= 0.765478, Training Accuracy= 0.79000\n",
      "Iter 6000, Minibatch Loss= 1.017228, Training Accuracy= 0.72000\n",
      "Iter 7000, Minibatch Loss= 0.627647, Training Accuracy= 0.79000\n",
      "Iter 8000, Minibatch Loss= 0.799816, Training Accuracy= 0.69000\n",
      "Iter 9000, Minibatch Loss= 0.952224, Training Accuracy= 0.71000\n",
      "Iter 10000, Minibatch Loss= 0.464142, Training Accuracy= 0.82000\n",
      "Iter 11000, Minibatch Loss= 0.635689, Training Accuracy= 0.80000\n",
      "Iter 12000, Minibatch Loss= 0.439846, Training Accuracy= 0.86000\n",
      "Iter 13000, Minibatch Loss= 0.347363, Training Accuracy= 0.88000\n",
      "Iter 14000, Minibatch Loss= 0.327679, Training Accuracy= 0.89000\n",
      "Iter 15000, Minibatch Loss= 0.332494, Training Accuracy= 0.89000\n",
      "Iter 16000, Minibatch Loss= 0.693066, Training Accuracy= 0.77000\n",
      "Iter 17000, Minibatch Loss= 0.297323, Training Accuracy= 0.91000\n",
      "Iter 18000, Minibatch Loss= 0.180413, Training Accuracy= 0.94000\n",
      "Iter 19000, Minibatch Loss= 0.401889, Training Accuracy= 0.88000\n",
      "Iter 20000, Minibatch Loss= 0.400645, Training Accuracy= 0.82000\n",
      "Iter 21000, Minibatch Loss= 0.299183, Training Accuracy= 0.87000\n",
      "Iter 22000, Minibatch Loss= 0.180329, Training Accuracy= 0.91000\n",
      "Iter 23000, Minibatch Loss= 0.210516, Training Accuracy= 0.94000\n",
      "Iter 24000, Minibatch Loss= 0.291695, Training Accuracy= 0.90000\n",
      "Iter 25000, Minibatch Loss= 0.443077, Training Accuracy= 0.82000\n",
      "Iter 26000, Minibatch Loss= 0.382372, Training Accuracy= 0.90000\n",
      "Iter 27000, Minibatch Loss= 0.187876, Training Accuracy= 0.95000\n",
      "Iter 28000, Minibatch Loss= 0.269733, Training Accuracy= 0.90000\n",
      "Iter 29000, Minibatch Loss= 0.143875, Training Accuracy= 0.94000\n",
      "Iter 30000, Minibatch Loss= 0.182848, Training Accuracy= 0.94000\n",
      "Iter 31000, Minibatch Loss= 0.195116, Training Accuracy= 0.93000\n",
      "Iter 32000, Minibatch Loss= 0.143959, Training Accuracy= 0.97000\n",
      "Iter 33000, Minibatch Loss= 0.328421, Training Accuracy= 0.91000\n",
      "Iter 34000, Minibatch Loss= 0.112657, Training Accuracy= 0.98000\n",
      "Iter 35000, Minibatch Loss= 0.335462, Training Accuracy= 0.90000\n",
      "Iter 36000, Minibatch Loss= 0.209571, Training Accuracy= 0.94000\n",
      "Iter 37000, Minibatch Loss= 0.224569, Training Accuracy= 0.95000\n",
      "Iter 38000, Minibatch Loss= 0.369561, Training Accuracy= 0.90000\n",
      "Iter 39000, Minibatch Loss= 0.260849, Training Accuracy= 0.91000\n",
      "Iter 40000, Minibatch Loss= 0.260469, Training Accuracy= 0.92000\n",
      "Iter 41000, Minibatch Loss= 0.275292, Training Accuracy= 0.92000\n",
      "Iter 42000, Minibatch Loss= 0.076988, Training Accuracy= 0.98000\n",
      "Iter 43000, Minibatch Loss= 0.202321, Training Accuracy= 0.92000\n",
      "Iter 44000, Minibatch Loss= 0.404642, Training Accuracy= 0.92000\n",
      "Iter 45000, Minibatch Loss= 0.197941, Training Accuracy= 0.92000\n",
      "Iter 46000, Minibatch Loss= 0.123726, Training Accuracy= 0.97000\n",
      "Iter 47000, Minibatch Loss= 0.268655, Training Accuracy= 0.91000\n",
      "Iter 48000, Minibatch Loss= 0.346132, Training Accuracy= 0.90000\n",
      "Iter 49000, Minibatch Loss= 0.243077, Training Accuracy= 0.91000\n",
      "Iter 50000, Minibatch Loss= 0.260850, Training Accuracy= 0.91000\n",
      "Iter 51000, Minibatch Loss= 0.065117, Training Accuracy= 0.98000\n",
      "Iter 52000, Minibatch Loss= 0.067339, Training Accuracy= 0.98000\n",
      "Iter 53000, Minibatch Loss= 0.046059, Training Accuracy= 0.99000\n",
      "Iter 54000, Minibatch Loss= 0.030664, Training Accuracy= 0.99000\n",
      "Iter 55000, Minibatch Loss= 0.221561, Training Accuracy= 0.96000\n",
      "Iter 56000, Minibatch Loss= 0.075141, Training Accuracy= 0.99000\n",
      "Iter 57000, Minibatch Loss= 0.076046, Training Accuracy= 0.98000\n",
      "Iter 58000, Minibatch Loss= 0.159267, Training Accuracy= 0.95000\n",
      "Iter 59000, Minibatch Loss= 0.268979, Training Accuracy= 0.95000\n",
      "Iter 60000, Minibatch Loss= 0.068022, Training Accuracy= 0.98000\n",
      "Iter 61000, Minibatch Loss= 0.105439, Training Accuracy= 0.95000\n",
      "Iter 62000, Minibatch Loss= 0.097037, Training Accuracy= 0.95000\n",
      "Iter 63000, Minibatch Loss= 0.188382, Training Accuracy= 0.96000\n",
      "Iter 64000, Minibatch Loss= 0.098991, Training Accuracy= 0.98000\n",
      "Iter 65000, Minibatch Loss= 0.117438, Training Accuracy= 0.96000\n",
      "Iter 66000, Minibatch Loss= 0.086143, Training Accuracy= 0.97000\n",
      "Iter 67000, Minibatch Loss= 0.074440, Training Accuracy= 0.98000\n",
      "Iter 68000, Minibatch Loss= 0.099668, Training Accuracy= 0.97000\n",
      "Iter 69000, Minibatch Loss= 0.169603, Training Accuracy= 0.92000\n",
      "Iter 70000, Minibatch Loss= 0.159168, Training Accuracy= 0.95000\n",
      "Iter 71000, Minibatch Loss= 0.162972, Training Accuracy= 0.97000\n",
      "Iter 72000, Minibatch Loss= 0.126981, Training Accuracy= 0.94000\n",
      "Iter 73000, Minibatch Loss= 0.074411, Training Accuracy= 0.97000\n",
      "Iter 74000, Minibatch Loss= 0.108263, Training Accuracy= 0.95000\n",
      "Iter 75000, Minibatch Loss= 0.092773, Training Accuracy= 0.95000\n",
      "Iter 76000, Minibatch Loss= 0.110137, Training Accuracy= 0.98000\n",
      "Iter 77000, Minibatch Loss= 0.117668, Training Accuracy= 0.95000\n",
      "Iter 78000, Minibatch Loss= 0.067477, Training Accuracy= 0.98000\n",
      "Iter 79000, Minibatch Loss= 0.098639, Training Accuracy= 0.96000\n",
      "Iter 80000, Minibatch Loss= 0.069231, Training Accuracy= 0.98000\n",
      "Iter 81000, Minibatch Loss= 0.144012, Training Accuracy= 0.97000\n",
      "Iter 82000, Minibatch Loss= 0.117523, Training Accuracy= 0.97000\n",
      "Iter 83000, Minibatch Loss= 0.102269, Training Accuracy= 0.96000\n",
      "Iter 84000, Minibatch Loss= 0.088203, Training Accuracy= 0.98000\n",
      "Iter 85000, Minibatch Loss= 0.135140, Training Accuracy= 0.94000\n",
      "Iter 86000, Minibatch Loss= 0.164327, Training Accuracy= 0.93000\n",
      "Iter 87000, Minibatch Loss= 0.132425, Training Accuracy= 0.94000\n",
      "Iter 88000, Minibatch Loss= 0.042271, Training Accuracy= 0.98000\n",
      "Iter 89000, Minibatch Loss= 0.143239, Training Accuracy= 0.95000\n",
      "Iter 90000, Minibatch Loss= 0.075762, Training Accuracy= 0.98000\n",
      "Iter 91000, Minibatch Loss= 0.042989, Training Accuracy= 0.99000\n",
      "Iter 92000, Minibatch Loss= 0.095229, Training Accuracy= 0.95000\n",
      "Iter 93000, Minibatch Loss= 0.029802, Training Accuracy= 0.99000\n",
      "Iter 94000, Minibatch Loss= 0.054088, Training Accuracy= 0.99000\n",
      "Iter 95000, Minibatch Loss= 0.078777, Training Accuracy= 0.97000\n",
      "Iter 96000, Minibatch Loss= 0.038222, Training Accuracy= 0.99000\n",
      "Iter 97000, Minibatch Loss= 0.018318, Training Accuracy= 1.00000\n",
      "Iter 98000, Minibatch Loss= 0.103747, Training Accuracy= 0.96000\n",
      "Iter 99000, Minibatch Loss= 0.050270, Training Accuracy= 0.98000\n",
      "Optimization Finished!\n",
      "Testing Accuracy: 0.975\n"
     ]
    }
   ],
   "source": [
    "# Launch the graph\n",
    "with tf.Session() as sess:\n",
    "    sess.run(init)\n",
    "    step = 1\n",
    "    # Keep training until reach max iterations\n",
    "    while step * batch_size < training_iters:\n",
    "        batch_x, batch_y = mnist.train.next_batch(batch_size)\n",
    "        # Reshape data to get 28 seq of 28 elements\n",
    "        batch_x = batch_x.reshape((batch_size, n_steps, n_input))\n",
    "        # Run optimization op (backprop)\n",
    "        sess.run(optimizer, feed_dict={x: batch_x, y: batch_y})\n",
    "        if step % display_step == 0:\n",
    "            # Calculate batch accuracy\n",
    "            acc = sess.run(accuracy, feed_dict={x: batch_x, y: batch_y})\n",
    "            # Calculate batch loss\n",
    "            loss = sess.run(cost, feed_dict={x: batch_x, y: batch_y})\n",
    "            print(\"Iter \" + str(step*batch_size) + \", Minibatch Loss= \" + \\\n",
    "                  \"{:.6f}\".format(loss) + \", Training Accuracy= \" + \\\n",
    "                  \"{:.5f}\".format(acc))\n",
    "        step += 1\n",
    "    print(\"Optimization Finished!\")\n",
    "\n",
    "    # Calculate accuracy for 128 mnist test images\n",
    "    test_len = 200\n",
    "    test_data = mnist.test.images[:test_len].reshape((-1, n_steps, n_input))\n",
    "    test_label = mnist.test.labels[:test_len]\n",
    "    print(\"Testing Accuracy:\", \\\n",
    "        sess.run(accuracy, feed_dict={x: test_data, y: test_label}))"
   ]
  },
  {
   "cell_type": "code",
   "execution_count": null,
   "metadata": {
    "collapsed": true,
    "deletable": true,
    "editable": true
   },
   "outputs": [],
   "source": []
  }
 ],
 "metadata": {
  "kernelspec": {
   "display_name": "Python 3",
   "language": "python",
   "name": "python3"
  },
  "language_info": {
   "codemirror_mode": {
    "name": "ipython",
    "version": 3
   },
   "file_extension": ".py",
   "mimetype": "text/x-python",
   "name": "python",
   "nbconvert_exporter": "python",
   "pygments_lexer": "ipython3",
   "version": "3.5.2"
  }
 },
 "nbformat": 4,
 "nbformat_minor": 0
}
